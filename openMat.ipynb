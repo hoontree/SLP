{
 "cells": [
  {
   "cell_type": "code",
   "execution_count": 1,
   "metadata": {},
   "outputs": [
    {
     "name": "stderr",
     "output_type": "stream",
     "text": [
      "/usr/lib/python3/dist-packages/requests/__init__.py:89: RequestsDependencyWarning: urllib3 (2.0.4) or chardet (3.0.4) doesn't match a supported version!\n",
      "  warnings.warn(\"urllib3 ({}) or chardet ({}) doesn't match a supported \"\n"
     ]
    }
   ],
   "source": [
    "import scipy.io as sio\n",
    "import numpy as np\n",
    "import os\n",
    "from skimage import io"
   ]
  },
  {
   "cell_type": "code",
   "execution_count": 4,
   "metadata": {},
   "outputs": [],
   "source": [
    "joints_gt_RGB_t = sio.loadmat('/tf/02_code/SLP-Dataset-and-Code/data/SLP/danaLab/00001/joints_gt_IR.mat')['joints_gt']"
   ]
  },
  {
   "cell_type": "code",
   "execution_count": 6,
   "metadata": {},
   "outputs": [
    {
     "name": "stdout",
     "output_type": "stream",
     "text": [
      "[[[ 44.85588508  44.85588508  62.94670992 ...  72.14040778  72.43697868\n",
      "    71.84383689]\n",
      "  [ 47.82159407  47.52502317  35.66218721 ...  45.15245598  46.63531047\n",
      "    45.15245598]\n",
      "  [ 53.15987025  54.34615385  51.08387396 ...  64.42956441  62.94670992\n",
      "    65.91241891]\n",
      "  ...\n",
      "  [ 89.93466172  90.23123262  89.34151993 ...  74.51297498  68.8781279\n",
      "    62.35356812]\n",
      "  [ 64.13299351  65.02270621  64.42956441 ...  56.71872104  55.82900834\n",
      "    57.01529194]\n",
      "  [ 63.83642261  64.13299351  62.94670992 ...  45.15245598  45.44902688\n",
      "    48.71130677]]\n",
      "\n",
      " [[131.65848007 131.36190918 111.78822984 ... 110.60194625 110.00880445\n",
      "   108.22937905]\n",
      "  [104.37395737 108.22937905  99.62882298 ...  99.33225209  97.55282669\n",
      "    98.44253939]\n",
      "  [ 80.35171455  80.94485635  77.38600556 ...  83.02085264  78.86886006\n",
      "    75.60658017]\n",
      "  ...\n",
      "  [ 72.93744208  72.64087118  71.15801668 ...  75.60658017  80.35171455\n",
      "    18.07182576]\n",
      "  [ 28.74837813  28.45180723  29.04494903 ...  31.71408712  32.01065802\n",
      "    30.23123262]\n",
      "  [ 10.06441149  11.25069509  11.25069509 ...  16.29240037  15.99582947\n",
      "    14.80954588]]\n",
      "\n",
      " [[  0.           0.           0.         ...   0.           0.\n",
      "     1.        ]\n",
      "  [  0.           0.           0.         ...   0.           0.\n",
      "     1.        ]\n",
      "  [  0.           0.           0.         ...   1.           1.\n",
      "     1.        ]\n",
      "  ...\n",
      "  [  0.           0.           0.         ...   0.           0.\n",
      "     0.        ]\n",
      "  [  0.           0.           0.         ...   0.           0.\n",
      "     0.        ]\n",
      "  [  0.           0.           0.         ...   0.           0.\n",
      "     0.        ]]]\n",
      "(45, 14, 3)\n"
     ]
    }
   ],
   "source": [
    "print(joints_gt_RGB_t)\n",
    "joints_gt_RGB_t = joints_gt_RGB_t.transpose([2, 1, 0])\n",
    "print(joints_gt_RGB_t.shape)"
   ]
  }
 ],
 "metadata": {
  "kernelspec": {
   "display_name": "Python 3",
   "language": "python",
   "name": "python3"
  },
  "language_info": {
   "codemirror_mode": {
    "name": "ipython",
    "version": 3
   },
   "file_extension": ".py",
   "mimetype": "text/x-python",
   "name": "python",
   "nbconvert_exporter": "python",
   "pygments_lexer": "ipython3",
   "version": "3.8.10"
  }
 },
 "nbformat": 4,
 "nbformat_minor": 2
}
